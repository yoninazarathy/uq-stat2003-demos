{
 "cells": [
  {
   "cell_type": "markdown",
   "id": "85ca673b-922c-43b2-96df-693fe865fa0e",
   "metadata": {},
   "source": [
    "# A simple example of a joint distribution"
   ]
  },
  {
   "cell_type": "code",
   "execution_count": 89,
   "id": "204d0af7-ff74-4224-aa1d-0def6f1307ae",
   "metadata": {},
   "outputs": [],
   "source": [
    "import numpy as np"
   ]
  },
  {
   "cell_type": "code",
   "execution_count": 90,
   "id": "5d51aa32-4fcc-48d4-a3b2-de1fb2bef852",
   "metadata": {},
   "outputs": [],
   "source": [
    "def rr(x):\n",
    "    return np.round(x, 3)"
   ]
  },
  {
   "cell_type": "markdown",
   "id": "4da19b77-e312-4f51-bd11-42064b8745e5",
   "metadata": {},
   "source": [
    "#### A joint distribution $f_{XY}(x,y)$ "
   ]
  },
  {
   "cell_type": "code",
   "execution_count": 134,
   "id": "8d63001f-5ee0-4153-be1b-b3e79ca0e087",
   "metadata": {},
   "outputs": [
    {
     "name": "stdout",
     "output_type": "stream",
     "text": [
      "[[ 0.1  0.3  0.2]\n",
      " [ 0.2  0.1  0.1]]\n"
     ]
    }
   ],
   "source": [
    "# Assume the support of Y is {1,2} and the supporrt of X is {1,2,3} (careful that Python indexing starts at 0 below)\n",
    "f_XY = np.array([[0.1, 0.3, 0.2],\n",
    "                 [0.2, 0.1, 0.1]])\n",
    "print(f_XY)"
   ]
  },
  {
   "cell_type": "markdown",
   "id": "c8fdba78-8255-44a6-ae0e-759fec8c5d34",
   "metadata": {},
   "source": [
    "#### The marginal distribution $f_X(x) = \\sum_y f_{XY}(x,y)$"
   ]
  },
  {
   "cell_type": "code",
   "execution_count": 164,
   "id": "5f4d530c-f47a-4135-bb12-b756296094f6",
   "metadata": {},
   "outputs": [
    {
     "data": {
      "text/plain": [
       "array([ 0.3,  0.4,  0.3])"
      ]
     },
     "execution_count": 164,
     "metadata": {},
     "output_type": "execute_result"
    }
   ],
   "source": [
    "f_X = rr(np.sum(f_XY, axis = 0))\n",
    "f_X"
   ]
  },
  {
   "cell_type": "markdown",
   "id": "e0802e1b-46f6-47b6-88b9-d2da02ff3689",
   "metadata": {},
   "source": [
    "#### The marginal distribution $f_Y(y) = \\sum_x f_{XY}(x,y)$"
   ]
  },
  {
   "cell_type": "code",
   "execution_count": 93,
   "id": "bf0579bd-0ffd-49d2-a08c-e76f0c10aa4a",
   "metadata": {},
   "outputs": [
    {
     "data": {
      "text/plain": [
       "array([ 0.6,  0.4])"
      ]
     },
     "execution_count": 93,
     "metadata": {},
     "output_type": "execute_result"
    }
   ],
   "source": [
    "f_Y = rr(np.sum(f_XY, axis = 1))\n",
    "f_Y"
   ]
  },
  {
   "cell_type": "markdown",
   "id": "cafa52f9-71d6-46f9-a238-b533f6ce94ec",
   "metadata": {},
   "source": [
    "#### The conditional distribution $f_{X|Y}(x|y) = \\frac{ f_{XY}(x,y)}{f_Y(y)}$"
   ]
  },
  {
   "cell_type": "code",
   "execution_count": 94,
   "id": "94500be7-516f-4aa1-aa84-922597f0a9fc",
   "metadata": {},
   "outputs": [
    {
     "data": {
      "text/plain": [
       "array([[0.167,  0.5, 0.333],\n",
       "       [ 0.5, 0.25, 0.25]])"
      ]
     },
     "execution_count": 94,
     "metadata": {},
     "output_type": "execute_result"
    }
   ],
   "source": [
    "f_XgivenY = rr(f_XY / f_Y[:,np.newaxis])\n",
    "f_XgivenY"
   ]
  },
  {
   "cell_type": "markdown",
   "id": "baf05b1c-d7f3-406b-8285-da0a0eedbe3d",
   "metadata": {},
   "source": [
    "##### The case conditional on the first Y"
   ]
  },
  {
   "cell_type": "code",
   "execution_count": 95,
   "id": "a996218a-97cb-4508-b20f-c3ee59e95ffa",
   "metadata": {},
   "outputs": [
    {
     "data": {
      "text/plain": [
       "array([0.167,  0.5, 0.333])"
      ]
     },
     "execution_count": 95,
     "metadata": {},
     "output_type": "execute_result"
    }
   ],
   "source": [
    "f_XgivenY[0,:]"
   ]
  },
  {
   "cell_type": "markdown",
   "id": "1839bbf1-8c48-493b-ad24-b8bbb8d261c3",
   "metadata": {},
   "source": [
    "##### The case conditional on the second Y"
   ]
  },
  {
   "cell_type": "code",
   "execution_count": 96,
   "id": "31082fe1-f6b3-48f0-95d9-9221fd13d139",
   "metadata": {},
   "outputs": [
    {
     "data": {
      "text/plain": [
       "array([[ 0.5, 0.25, 0.25]])"
      ]
     },
     "execution_count": 96,
     "metadata": {},
     "output_type": "execute_result"
    }
   ],
   "source": [
    "f_XgivenY[1:]"
   ]
  },
  {
   "cell_type": "markdown",
   "id": "658c3670-c3f8-439c-8576-83108fc3e041",
   "metadata": {},
   "source": [
    "#### The conditional distribution $f_{Y|X}(y|x) = \\frac{ f_{XY}(x,y)}{f_X(x)}$"
   ]
  },
  {
   "cell_type": "code",
   "execution_count": 97,
   "id": "0d6bb9e0-d954-4cad-8dd1-d0d0a7c120e4",
   "metadata": {},
   "outputs": [
    {
     "data": {
      "text/plain": [
       "array([[0.333, 0.75, 0.667],\n",
       "       [0.667, 0.25, 0.333]])"
      ]
     },
     "execution_count": 97,
     "metadata": {},
     "output_type": "execute_result"
    }
   ],
   "source": [
    "f_YgivenX = rr(f_XY / f_X[np.newaxis, :])\n",
    "f_YgivenX"
   ]
  },
  {
   "cell_type": "markdown",
   "id": "3e2434db-ba31-472d-9ae5-3c623816849f",
   "metadata": {},
   "source": [
    "Here each column of the above is a conditional distribution of $Y$ given $X$"
   ]
  },
  {
   "cell_type": "markdown",
   "id": "b936bbd2-7896-4768-8a47-f55887dfdfd2",
   "metadata": {},
   "source": [
    "#### Moments"
   ]
  },
  {
   "cell_type": "markdown",
   "id": "4d91ebb5-18c9-43ff-a792-532bc1a32690",
   "metadata": {},
   "source": [
    "$$\n",
    "{\\mathbb E}[X] = \\sum_x x f_X(x),\n",
    "\\qquad\n",
    "{\\mathbb E}[Y] = \\sum_y y f_Y(y)\n",
    "$$"
   ]
  },
  {
   "cell_type": "markdown",
   "id": "08963ba9-4775-43f2-bd61-b254f0d3334c",
   "metadata": {},
   "source": [
    "##### Mean"
   ]
  },
  {
   "cell_type": "code",
   "execution_count": 98,
   "id": "dce8633b-471b-4b5e-be57-ceb94465b37d",
   "metadata": {},
   "outputs": [
    {
     "data": {
      "text/plain": [
       "2.0"
      ]
     },
     "execution_count": 98,
     "metadata": {},
     "output_type": "execute_result"
    }
   ],
   "source": [
    "E_X = float(np.sum(f_X * np.arange(1,4)))\n",
    "E_X"
   ]
  },
  {
   "cell_type": "code",
   "execution_count": 99,
   "id": "a56e7043-cf80-424f-9117-c5543bbf5196",
   "metadata": {},
   "outputs": [
    {
     "data": {
      "text/plain": [
       "1.4"
      ]
     },
     "execution_count": 99,
     "metadata": {},
     "output_type": "execute_result"
    }
   ],
   "source": [
    "E_Y = float(np.sum(f_Y * np.arange(1,3)))\n",
    "E_Y"
   ]
  },
  {
   "cell_type": "markdown",
   "id": "21f3c792-0907-4810-b329-ed3bb9fa9d46",
   "metadata": {},
   "source": [
    "The mean vector:\n",
    "$$\n",
    "\\mu = \n",
    "\\left[\n",
    "\\begin{matrix}\n",
    "{\\mathbb E}[X] \\\\\n",
    "{\\mathbb E}[Y]\n",
    "\\end{matrix}\n",
    "\\right]\n",
    "$$"
   ]
  },
  {
   "cell_type": "code",
   "execution_count": 100,
   "id": "005d26c6-23cc-48a8-969b-8843eeb420b6",
   "metadata": {},
   "outputs": [
    {
     "data": {
      "text/plain": [
       "array([ 2.0,  1.4])"
      ]
     },
     "execution_count": 100,
     "metadata": {},
     "output_type": "execute_result"
    }
   ],
   "source": [
    "mu = np.array([E_X, E_Y])\n",
    "mu"
   ]
  },
  {
   "cell_type": "markdown",
   "id": "04787fab-0e6f-4f54-90af-fb3544ac87c3",
   "metadata": {},
   "source": [
    "##### Variance"
   ]
  },
  {
   "cell_type": "code",
   "execution_count": 101,
   "id": "abdb4c75-f7be-4808-a6dd-6541911afbb0",
   "metadata": {},
   "outputs": [
    {
     "data": {
      "text/plain": [
       "0.6"
      ]
     },
     "execution_count": 101,
     "metadata": {},
     "output_type": "execute_result"
    }
   ],
   "source": [
    "E_X2 = float(np.sum(f_X * np.arange(1,4)**2)) # second moment\n",
    "Var_X = E_X2 - E_X**2\n",
    "round(Var_X, 3)"
   ]
  },
  {
   "cell_type": "code",
   "execution_count": 102,
   "id": "cb665d66-1020-4e1b-9388-c39bb4e95f3d",
   "metadata": {},
   "outputs": [
    {
     "data": {
      "text/plain": [
       "0.24"
      ]
     },
     "execution_count": 102,
     "metadata": {},
     "output_type": "execute_result"
    }
   ],
   "source": [
    "E_Y2 = float(np.sum(f_Y * np.arange(1,3)**2)) # second moment\n",
    "Var_Y = E_Y2 - E_Y**2\n",
    "round(Var_Y,3)"
   ]
  },
  {
   "cell_type": "markdown",
   "id": "01e8db54-c0d7-47ed-b6c6-1ecf67e3293f",
   "metadata": {},
   "source": [
    "##### Covariance"
   ]
  },
  {
   "cell_type": "markdown",
   "id": "c366d090-fe4d-489e-8752-31fcff8533cd",
   "metadata": {},
   "source": [
    "$$\n",
    "\\text{Cov}(X,Y) ={\\mathbb E}[(X- {\\mathbb E}[X])(Y- {\\mathbb E}[Y])] = {\\mathbb E}[XY] -{\\mathbb E}[X] {\\mathbb E}[Y]\n",
    "$$\n",
    "\n",
    "$$\n",
    "{\\mathbb E}[XY] = \\sum_{x,y} x y f_{XY}(x,y)\n",
    "$$"
   ]
  },
  {
   "cell_type": "code",
   "execution_count": 142,
   "id": "80cb168b-f720-4cb3-b653-c64361a68293",
   "metadata": {},
   "outputs": [
    {
     "data": {
      "text/plain": [
       "array([[   1,    2,    3],\n",
       "       [   2,    4,    6]])"
      ]
     },
     "execution_count": 142,
     "metadata": {},
     "output_type": "execute_result"
    }
   ],
   "source": [
    "np.outer([1,2],[1,2,3])"
   ]
  },
  {
   "cell_type": "code",
   "execution_count": 143,
   "id": "18b090ae-06b2-45b5-992d-d797013a0098",
   "metadata": {},
   "outputs": [
    {
     "data": {
      "text/plain": [
       "2.7"
      ]
     },
     "execution_count": 143,
     "metadata": {},
     "output_type": "execute_result"
    }
   ],
   "source": [
    "E_XY = np.sum(np.outer([1,2],[1,2,3]) * f_XY)\n",
    "float(E_XY)"
   ]
  },
  {
   "cell_type": "code",
   "execution_count": 144,
   "id": "7632adb6-6124-41b5-9bc2-4c849992a18e",
   "metadata": {},
   "outputs": [
    {
     "data": {
      "text/plain": [
       "-0.1"
      ]
     },
     "execution_count": 144,
     "metadata": {},
     "output_type": "execute_result"
    }
   ],
   "source": [
    "cov_XY = E_XY - E_X*E_Y\n",
    "float(round(cov_XY, 3))"
   ]
  },
  {
   "cell_type": "markdown",
   "id": "a7072b07-6873-4f65-9304-5649479fe332",
   "metadata": {},
   "source": [
    "##### Correlation Coefficient"
   ]
  },
  {
   "cell_type": "markdown",
   "id": "4700e714-0e65-4edd-8ebc-eb58bfe71b07",
   "metadata": {},
   "source": [
    "$$\n",
    "\\rho(X,Y) = \\frac{\\text{Cov}(X,Y)}{\\sqrt{\\text{Var}(X)\\text{Var}(Y)}}\n",
    "$$"
   ]
  },
  {
   "cell_type": "code",
   "execution_count": 146,
   "id": "4af35a11-dbbd-4de4-929f-1e67a40e38d4",
   "metadata": {},
   "outputs": [
    {
     "data": {
      "text/plain": [
       "-0.264"
      ]
     },
     "execution_count": 146,
     "metadata": {},
     "output_type": "execute_result"
    }
   ],
   "source": [
    "rho = cov_XY/np.sqrt(Var_X*Var_Y)\n",
    "float(np.round(rho,3))"
   ]
  },
  {
   "cell_type": "markdown",
   "id": "885165d8-bfc3-44bf-84f4-037cff1c74c2",
   "metadata": {},
   "source": [
    "### Conditional expectation"
   ]
  },
  {
   "cell_type": "code",
   "execution_count": 154,
   "id": "beb045d4-09d6-4d86-9174-6dbbfa22bdd9",
   "metadata": {},
   "outputs": [
    {
     "data": {
      "text/plain": [
       "array([[0.167,  0.5, 0.333],\n",
       "       [ 0.5, 0.25, 0.25]])"
      ]
     },
     "execution_count": 154,
     "metadata": {},
     "output_type": "execute_result"
    }
   ],
   "source": [
    "f_XgivenY"
   ]
  },
  {
   "cell_type": "code",
   "execution_count": 155,
   "id": "a96d230f-8a42-4a10-986d-9f620d1ac41c",
   "metadata": {},
   "outputs": [
    {
     "data": {
      "text/plain": [
       "2.166"
      ]
     },
     "execution_count": 155,
     "metadata": {},
     "output_type": "execute_result"
    }
   ],
   "source": [
    "E_XgivenYis1 = np.sum(f_XgivenY[0,:] * np.arange(1,4))\n",
    "float(rr(E_XgivenYis1))"
   ]
  },
  {
   "cell_type": "code",
   "execution_count": 156,
   "id": "ce7e7cf4-abcf-4e9a-a313-e2d6bb610657",
   "metadata": {},
   "outputs": [
    {
     "data": {
      "text/plain": [
       "1.75"
      ]
     },
     "execution_count": 156,
     "metadata": {},
     "output_type": "execute_result"
    }
   ],
   "source": [
    "E_XgivenYis2 = np.sum(f_XgivenY[1,:] * np.arange(1,4))\n",
    "float(E_XgivenYis2)"
   ]
  },
  {
   "cell_type": "code",
   "execution_count": 157,
   "id": "7dabb547-ad41-47b0-adaa-e19656077310",
   "metadata": {},
   "outputs": [
    {
     "data": {
      "text/plain": [
       "array([ 0.6,  0.4])"
      ]
     },
     "execution_count": 157,
     "metadata": {},
     "output_type": "execute_result"
    }
   ],
   "source": [
    "f_Y"
   ]
  },
  {
   "cell_type": "markdown",
   "id": "34876e85-bb22-4522-81be-a9be6161d8a3",
   "metadata": {},
   "source": [
    "The random variable ${\\mathbb E}[X ~|~Y]$ has a distribution with probability mass function\n",
    "\n",
    "$$\n",
    "f(x) = \\begin{cases}\n",
    "0.6 & x = 2.166, \\\\\n",
    "0.4 & x = 1.75, \\\\\n",
    "0 & \\text{otherwise}.\n",
    "\\end{cases}\n",
    "$$"
   ]
  },
  {
   "cell_type": "markdown",
   "id": "baf3b77a-ae7e-4d57-9c2c-207d7aa31dad",
   "metadata": {},
   "source": [
    "##### The Tower Property\n",
    "\n",
    "$$\n",
    "{\\mathbb E}[X] = {\\mathbb E} \\Big[ {\\mathbb E}[X ~|~ Y] \\Big] \n",
    "$$"
   ]
  },
  {
   "cell_type": "code",
   "execution_count": 166,
   "id": "03372545-6a6d-45ab-a74b-bdf6d1d78c1d",
   "metadata": {},
   "outputs": [
    {
     "data": {
      "text/plain": [
       "2.0"
      ]
     },
     "execution_count": 166,
     "metadata": {},
     "output_type": "execute_result"
    }
   ],
   "source": [
    "float(rr(E_XgivenYis1 * f_Y[0] + E_XgivenYis2 * f_Y[1]))"
   ]
  },
  {
   "cell_type": "markdown",
   "id": "b802e76b-1def-4959-8b72-79ac73dc21ce",
   "metadata": {},
   "source": [
    "So we retrieve the expecation of $X$ that we had before."
   ]
  },
  {
   "cell_type": "markdown",
   "id": "0524bf88-f987-40e5-8ad8-81f91c1127b4",
   "metadata": {},
   "source": [
    "#### Independence"
   ]
  },
  {
   "cell_type": "code",
   "execution_count": 173,
   "id": "baa522d4-0c97-4f71-8e6d-5d0b4111473f",
   "metadata": {},
   "outputs": [
    {
     "data": {
      "text/plain": [
       "array([[0.18, 0.24, 0.18],\n",
       "       [0.12, 0.16, 0.12]])"
      ]
     },
     "execution_count": 173,
     "metadata": {},
     "output_type": "execute_result"
    }
   ],
   "source": [
    "f_XY_ind = rr(np.outer(f_Y, f_X))\n",
    "f_XY_ind"
   ]
  },
  {
   "cell_type": "code",
   "execution_count": 176,
   "id": "34254fa0-5f4e-4135-ace5-9ebd919d1268",
   "metadata": {},
   "outputs": [
    {
     "data": {
      "text/plain": [
       "array([[ 0.1,  0.3,  0.2],\n",
       "       [ 0.2,  0.1,  0.1]])"
      ]
     },
     "execution_count": 176,
     "metadata": {},
     "output_type": "execute_result"
    }
   ],
   "source": [
    "# f_XY_ind NOt the same as f_XY\n",
    "f_XY"
   ]
  },
  {
   "cell_type": "code",
   "execution_count": 177,
   "id": "f99b585b-90e4-406d-8c58-c04741a9b6c6",
   "metadata": {},
   "outputs": [
    {
     "data": {
      "text/plain": [
       "2.8"
      ]
     },
     "execution_count": 177,
     "metadata": {},
     "output_type": "execute_result"
    }
   ],
   "source": [
    "E_XY_ind = np.sum(np.outer([1,2],[1,2,3]) * f_XY_ind)\n",
    "float(E_XY_ind)"
   ]
  },
  {
   "cell_type": "markdown",
   "id": "0bd290d0-6a39-4bc5-86e8-e6038e51e5b5",
   "metadata": {},
   "source": [
    "In case of independence the covariance must be 0."
   ]
  },
  {
   "cell_type": "code",
   "execution_count": 179,
   "id": "aae6275a-5db4-438d-8a3e-8aad59061060",
   "metadata": {},
   "outputs": [
    {
     "data": {
      "text/plain": [
       "0.0"
      ]
     },
     "execution_count": 179,
     "metadata": {},
     "output_type": "execute_result"
    }
   ],
   "source": [
    "cov_XY_ind = E_XY_ind - E_X*E_Y\n",
    "float(cov_XY_ind)"
   ]
  }
 ],
 "metadata": {
  "kernelspec": {
   "display_name": "Python 3 (ipykernel)",
   "language": "python",
   "name": "python3"
  },
  "language_info": {
   "codemirror_mode": {
    "name": "ipython",
    "version": 3
   },
   "file_extension": ".py",
   "mimetype": "text/x-python",
   "name": "python",
   "nbconvert_exporter": "python",
   "pygments_lexer": "ipython3",
   "version": "3.10.14"
  }
 },
 "nbformat": 4,
 "nbformat_minor": 5
}
